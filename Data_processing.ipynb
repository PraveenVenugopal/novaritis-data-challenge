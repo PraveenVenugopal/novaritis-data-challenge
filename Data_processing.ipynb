{
 "cells": [
  {
   "cell_type": "code",
   "execution_count": 2,
   "metadata": {},
   "outputs": [],
   "source": [
    "import pandas as pd\n",
    "import numpy as np\n",
    "import matplotlib.pyplot as plt\n",
    "from collections import Counter\n",
    "from datetime import datetime, timedelta"
   ]
  },
  {
   "cell_type": "code",
   "execution_count": 3,
   "metadata": {},
   "outputs": [
    {
     "data": {
      "text/plain": [
       "(109009, 49)"
      ]
     },
     "execution_count": 3,
     "metadata": {},
     "output_type": "execute_result"
    }
   ],
   "source": [
    "xl_data  = pd.read_excel(\"IE01.552.051-data_pack.xlsx\",sheet_name=\"Sensor_Data\")\n",
    "xl_data.shape"
   ]
  },
  {
   "cell_type": "code",
   "execution_count": 4,
   "metadata": {},
   "outputs": [
    {
     "data": {
      "text/plain": [
       "(25, 11)"
      ]
     },
     "execution_count": 4,
     "metadata": {},
     "output_type": "execute_result"
    }
   ],
   "source": [
    "failure = pd.read_excel(\"IE01.552.051-data_pack.xlsx\",sheet_name=\"Failure_Data\")\n",
    "failure.shape"
   ]
  },
  {
   "cell_type": "code",
   "execution_count": 5,
   "metadata": {},
   "outputs": [],
   "source": [
    "# Standardize the start and end time of failures. \n",
    "failure[\"FailureStartDate\"] = failure[\"FailureStartDate\"].apply(lambda x:datetime.strptime(x,\"%d.%m.%Y\").date())\n",
    "failure[\"FailureStartTime\"] = failure[\"FailureStartTime\"].apply(lambda x:datetime.strptime(x,\"%H:%M:%S\").time())\n",
    "failure[\"Fstart\"] = [datetime.combine(failure.iloc[k][\"FailureStartDate\"],failure.iloc[k][\"FailureStartTime\"]) for k in range(len(failure))]\n",
    "failure[\"Fend\"] = [failure.iloc[k][\"Fstart\"]+timedelta(hours=failure.iloc[k][\"actual work\\nin hours\"]) for k in range(len(failure))]\n",
    "\n",
    "# Setting type of failure. 1 - Non-maintenance ; 2 - Deferred Maintenance ; 3 - Immediate Maintenance \n",
    "failure[\"Type\"] = failure[\"Order Type\"].apply(lambda x:int(x[-1])+1)"
   ]
  },
  {
   "cell_type": "code",
   "execution_count": 6,
   "metadata": {},
   "outputs": [],
   "source": [
    "# Construct a list of \"timestamps\" when there was an observed failure.\n",
    "failure_intervals = pd.Series()\n",
    "for k in range(len(failure)):\n",
    "    s = failure.iloc[k][\"Fstart\"].replace(second=0)\n",
    "    while s <= failure.iloc[k][\"Fend\"]:\n",
    "        failure_intervals[s] = failure.iloc[k][\"Type\"]\n",
    "        s+=timedelta(minutes=1)   #make it per minute to have higher granuarity"
   ]
  },
  {
   "cell_type": "code",
   "execution_count": 7,
   "metadata": {},
   "outputs": [
    {
     "name": "stdout",
     "output_type": "stream",
     "text": [
      "Counter({0: 108440, 2: 424, 1: 145})\n"
     ]
    }
   ],
   "source": [
    "def failtype(ts):\n",
    "    if ts in failure_intervals.index:\n",
    "        return failure_intervals[ts]\n",
    "    else:\n",
    "        return 0\n",
    "\n",
    "sandbox = xl_data.copy()\n",
    "sandbox[\"labels\"] = sandbox[\"Timestamp\"].apply(failtype)\n",
    "sandbox.to_csv(\"easy_load.csv\")\n",
    "print(Counter(sandbox[\"labels\"].values))"
   ]
  },
  {
   "cell_type": "code",
   "execution_count": 54,
   "metadata": {},
   "outputs": [],
   "source": [
    "sandbox.set_index([\"Timestamp\"],drop=True,inplace=True)\n",
    "sandbox.sort_index(inplace=True)\n",
    "\n",
    "features = list(sandbox.columns)\n",
    "features.remove(\"labels\")\n",
    "cat_cols = [\"AI552051.754_ALM\",\"BACT.552051\",\"BCMPLT.552051\",\"FAL552051.754\",\"HV552051.331\",\"HV552051.332\",\"LAH552051.670\",\"LAH552051.678\",\"LAH552051.680\",\"M552051.801\",\"M552051.802\",\"M552051.823\",\"M552051.826\",\"M552051.871\",\"MAINT.552051\",\"MODMAN.552051\",\"PARTREC.552051\",\"QCA552051_001\",\"RUN.552051\",\"SIC552051.801_ALM\",\"SSOALM.552051\",\"VI552051.748_ALM\",\"ZS552051.737\",\"ZS552051.740\",\"ZS552051_753\"]"
   ]
  },
  {
   "cell_type": "code",
   "execution_count": 55,
   "metadata": {},
   "outputs": [
    {
     "data": {
      "text/plain": [
       "(109009, 110)"
      ]
     },
     "execution_count": 55,
     "metadata": {},
     "output_type": "execute_result"
    }
   ],
   "source": [
    "for col in cat_cols:\n",
    "    sandbox[col] = sandbox[col].astype(\"category\")\n",
    "    #print(col, Counter(sandbox[col].to_list()))\n",
    "    sandbox = pd.get_dummies(sandbox,prefix=[col],columns=[col])\n",
    "    #sandbox.drop([col],inplace=True,axis=1)\n",
    "    \n",
    "sandbox.shape"
   ]
  },
  {
   "cell_type": "code",
   "execution_count": 56,
   "metadata": {},
   "outputs": [
    {
     "name": "stdout",
     "output_type": "stream",
     "text": [
      "['WI552051.675', 'FQI552051.718', 'VI552051.748', 'WI552051.674', 'TIC552051.616', 'PI552051.645', 'AI552051.754', 'MODSTS.552051', 'FIC552051_718', 'CYCLE.552051', 'SIC552051.801_SP', 'PI552051.642', 'SI552051.801', 'PI552051.651', 'PHASE.552051', 'SIA552051.801', 'FI552051_718', 'PIN.552051', 'SIC552051.801_CO', 'PI552051.646', 'PHTIME.552051', 'SIC552051.801', 'PI552051.641']\n"
     ]
    }
   ],
   "source": [
    "non_cat = list(set(features)-set(cat_cols))\n",
    "print(non_cat)"
   ]
  },
  {
   "cell_type": "code",
   "execution_count": 57,
   "metadata": {},
   "outputs": [
    {
     "data": {
      "text/plain": [
       "(109009, 156)"
      ]
     },
     "execution_count": 57,
     "metadata": {},
     "output_type": "execute_result"
    }
   ],
   "source": [
    "for col in non_cat:\n",
    "    sandbox[col] = pd.to_numeric(sandbox[col],errors=\"coerce\").fillna(sandbox[col])\n",
    "    sandbox[col+\"_Bad Input\"] = [1 if k == \"Bad Input\" else 0 for k in sandbox[col].tolist()]\n",
    "    sandbox[col+\"_I/O Timeout\"] = [1 if k == \"I/O Timeout\" else 0 for k in sandbox[col].tolist()]\n",
    "    #print(col,sandbox[col].dtype)\n",
    "sandbox[non_cat] = sandbox[non_cat].apply(pd.to_numeric, errors='coerce').fillna(0)\n",
    "\n",
    "sandbox.shape"
   ]
  },
  {
   "cell_type": "code",
   "execution_count": 41,
   "metadata": {},
   "outputs": [
    {
     "name": "stdout",
     "output_type": "stream",
     "text": [
      "Total bad inputs (9473, 156)\n",
      "Total i/o timeouts (1, 156)\n"
     ]
    }
   ],
   "source": [
    "badinputs = []\n",
    "no_io = []\n",
    "for col in sandbox.columns:\n",
    "    if \"Bad Input\" in col:\n",
    "        badinputs.append(col)\n",
    "    if \"I/O Timeout\" in col:\n",
    "        no_io.append(col)\n",
    "\n",
    "truess = np.zeros(len(sandbox))\n",
    "trs = np.zeros(len(sandbox))\n",
    "for col in badinputs:\n",
    "    truess = truess + sandbox[col]\n",
    "for col in no_io:\n",
    "    trs = trs + sandbox[col]\n",
    "\n",
    "print(\"Total bad inputs\",sandbox.iloc[np.where(truess > 1)].shape)\n",
    "print(\"Total i/o timeouts\",sandbox.iloc[np.where(trs > 1)].shape)"
   ]
  },
  {
   "cell_type": "code",
   "execution_count": 58,
   "metadata": {},
   "outputs": [],
   "source": [
    "feat_cols = list(sandbox.columns)\n",
    "feat_cols.remove(\"labels\")"
   ]
  },
  {
   "cell_type": "code",
   "execution_count": 59,
   "metadata": {},
   "outputs": [
    {
     "name": "stdout",
     "output_type": "stream",
     "text": [
      "(65809, 155) (65809,)\n",
      "(43201, 155) (43201,)\n"
     ]
    }
   ],
   "source": [
    "\n",
    "marked_index = datetime.strptime(\"2016-07-01 00:00:00\",\"%Y-%m-%d %H:%M:%S\")\n",
    "\n",
    "train_data = sandbox.loc[:marked_index][feat_cols]\n",
    "test_data = sandbox.loc[marked_index:][feat_cols]\n",
    "train_labels = sandbox.loc[:marked_index][\"labels\"]\n",
    "test_labels = sandbox.loc[marked_index:][\"labels\"]\n",
    "print(train_data.shape,train_labels.shape)\n",
    "print(test_data.shape,test_labels.shape)\n",
    "\n"
   ]
  },
  {
   "cell_type": "code",
   "execution_count": 60,
   "metadata": {},
   "outputs": [
    {
     "name": "stderr",
     "output_type": "stream",
     "text": [
      "/home/venugopal/anaconda3/envs/py36/lib/python3.6/site-packages/ipykernel_launcher.py:3: FutureWarning: The signature of `Series.to_csv` was aligned to that of `DataFrame.to_csv`, and argument 'header' will change its default value from False to True: please pass an explicit value to suppress this warning.\n",
      "  This is separate from the ipykernel package so we can avoid doing imports until\n",
      "/home/venugopal/anaconda3/envs/py36/lib/python3.6/site-packages/ipykernel_launcher.py:4: FutureWarning: The signature of `Series.to_csv` was aligned to that of `DataFrame.to_csv`, and argument 'header' will change its default value from False to True: please pass an explicit value to suppress this warning.\n",
      "  after removing the cwd from sys.path.\n"
     ]
    }
   ],
   "source": [
    "train_data.to_csv(\"data/train_data.csv\",index=False)\n",
    "test_data.to_csv(\"data/test_data.csv\",index=False)\n",
    "train_labels.to_csv(\"data/train_labels.csv\",index=False)\n",
    "test_labels.to_csv(\"data/test_labels.csv\",index=False)"
   ]
  }
 ],
 "metadata": {
  "kernelspec": {
   "display_name": "Notebook py36",
   "language": "python",
   "name": "py36"
  },
  "language_info": {
   "codemirror_mode": {
    "name": "ipython",
    "version": 3
   },
   "file_extension": ".py",
   "mimetype": "text/x-python",
   "name": "python",
   "nbconvert_exporter": "python",
   "pygments_lexer": "ipython3",
   "version": "3.6.8"
  }
 },
 "nbformat": 4,
 "nbformat_minor": 2
}
