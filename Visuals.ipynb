{
 "cells": [
  {
   "cell_type": "code",
   "execution_count": 14,
   "metadata": {},
   "outputs": [],
   "source": [
    "%matplotlib inline  \n",
    "import pandas as pd\n",
    "import numpy as np\n",
    "import matplotlib.pyplot as plt\n",
    "from datetime import datetime, timedelta\n",
    "from collections import Counter"
   ]
  },
  {
   "cell_type": "code",
   "execution_count": 10,
   "metadata": {},
   "outputs": [
    {
     "data": {
      "text/plain": [
       "(109009, 50)"
      ]
     },
     "execution_count": 10,
     "metadata": {},
     "output_type": "execute_result"
    }
   ],
   "source": [
    "sandbox = pd.read_csv(\"data/easy_load.csv\").drop(\"Unnamed: 0\",axis=1)\n",
    "sandbox.shape"
   ]
  },
  {
   "cell_type": "code",
   "execution_count": 11,
   "metadata": {},
   "outputs": [
    {
     "data": {
      "text/html": [
       "<div>\n",
       "<style scoped>\n",
       "    .dataframe tbody tr th:only-of-type {\n",
       "        vertical-align: middle;\n",
       "    }\n",
       "\n",
       "    .dataframe tbody tr th {\n",
       "        vertical-align: top;\n",
       "    }\n",
       "\n",
       "    .dataframe thead th {\n",
       "        text-align: right;\n",
       "    }\n",
       "</style>\n",
       "<table border=\"1\" class=\"dataframe\">\n",
       "  <thead>\n",
       "    <tr style=\"text-align: right;\">\n",
       "      <th></th>\n",
       "      <th>AI552051.754</th>\n",
       "      <th>AI552051.754_ALM</th>\n",
       "      <th>BACT.552051</th>\n",
       "      <th>BCMPLT.552051</th>\n",
       "      <th>CYCLE.552051</th>\n",
       "      <th>FAL552051.754</th>\n",
       "      <th>FI552051_718</th>\n",
       "      <th>FIC552051_718</th>\n",
       "      <th>FQI552051.718</th>\n",
       "      <th>HV552051.331</th>\n",
       "      <th>...</th>\n",
       "      <th>SSOALM.552051</th>\n",
       "      <th>TIC552051.616</th>\n",
       "      <th>VI552051.748</th>\n",
       "      <th>VI552051.748_ALM</th>\n",
       "      <th>WI552051.674</th>\n",
       "      <th>WI552051.675</th>\n",
       "      <th>ZS552051.737</th>\n",
       "      <th>ZS552051.740</th>\n",
       "      <th>ZS552051_753</th>\n",
       "      <th>labels</th>\n",
       "    </tr>\n",
       "    <tr>\n",
       "      <th>Timestamp</th>\n",
       "      <th></th>\n",
       "      <th></th>\n",
       "      <th></th>\n",
       "      <th></th>\n",
       "      <th></th>\n",
       "      <th></th>\n",
       "      <th></th>\n",
       "      <th></th>\n",
       "      <th></th>\n",
       "      <th></th>\n",
       "      <th></th>\n",
       "      <th></th>\n",
       "      <th></th>\n",
       "      <th></th>\n",
       "      <th></th>\n",
       "      <th></th>\n",
       "      <th></th>\n",
       "      <th></th>\n",
       "      <th></th>\n",
       "      <th></th>\n",
       "      <th></th>\n",
       "    </tr>\n",
       "  </thead>\n",
       "  <tbody>\n",
       "    <tr>\n",
       "      <th>2015-04-01 00:00:00</th>\n",
       "      <td>0.0851304903626442</td>\n",
       "      <td>Normal</td>\n",
       "      <td>Active</td>\n",
       "      <td>Active</td>\n",
       "      <td>0</td>\n",
       "      <td>off</td>\n",
       "      <td>0.0120094</td>\n",
       "      <td>12.0093</td>\n",
       "      <td>208.417</td>\n",
       "      <td>No Data</td>\n",
       "      <td>...</td>\n",
       "      <td>Normal</td>\n",
       "      <td>18.4833</td>\n",
       "      <td>0.838046</td>\n",
       "      <td>Normal</td>\n",
       "      <td>103.945</td>\n",
       "      <td>3726.58</td>\n",
       "      <td>No Data</td>\n",
       "      <td>No Data</td>\n",
       "      <td>No Data</td>\n",
       "      <td>0</td>\n",
       "    </tr>\n",
       "    <tr>\n",
       "      <th>2015-04-01 00:10:00</th>\n",
       "      <td>0.08541367948055267</td>\n",
       "      <td>Normal</td>\n",
       "      <td>Active</td>\n",
       "      <td>Active</td>\n",
       "      <td>0</td>\n",
       "      <td>off</td>\n",
       "      <td>0.0120094</td>\n",
       "      <td>12.0093</td>\n",
       "      <td>208.455</td>\n",
       "      <td>No Data</td>\n",
       "      <td>...</td>\n",
       "      <td>Normal</td>\n",
       "      <td>18.4854</td>\n",
       "      <td>0.353471</td>\n",
       "      <td>Normal</td>\n",
       "      <td>103.945</td>\n",
       "      <td>3726.92</td>\n",
       "      <td>No Data</td>\n",
       "      <td>No Data</td>\n",
       "      <td>No Data</td>\n",
       "      <td>0</td>\n",
       "    </tr>\n",
       "    <tr>\n",
       "      <th>2015-04-01 00:20:00</th>\n",
       "      <td>0.08569687604904175</td>\n",
       "      <td>Normal</td>\n",
       "      <td>Active</td>\n",
       "      <td>Active</td>\n",
       "      <td>0</td>\n",
       "      <td>off</td>\n",
       "      <td>0.0120094</td>\n",
       "      <td>12.0093</td>\n",
       "      <td>208.492</td>\n",
       "      <td>No Data</td>\n",
       "      <td>...</td>\n",
       "      <td>Normal</td>\n",
       "      <td>18.4875</td>\n",
       "      <td>0.299794</td>\n",
       "      <td>Normal</td>\n",
       "      <td>103.945</td>\n",
       "      <td>3727.26</td>\n",
       "      <td>No Data</td>\n",
       "      <td>No Data</td>\n",
       "      <td>No Data</td>\n",
       "      <td>0</td>\n",
       "    </tr>\n",
       "    <tr>\n",
       "      <th>2015-04-01 00:30:00</th>\n",
       "      <td>0.08598006516695023</td>\n",
       "      <td>Normal</td>\n",
       "      <td>Active</td>\n",
       "      <td>Active</td>\n",
       "      <td>0</td>\n",
       "      <td>off</td>\n",
       "      <td>0.0120094</td>\n",
       "      <td>12.0093</td>\n",
       "      <td>208.53</td>\n",
       "      <td>No Data</td>\n",
       "      <td>...</td>\n",
       "      <td>Normal</td>\n",
       "      <td>18.4896</td>\n",
       "      <td>0.129283</td>\n",
       "      <td>Normal</td>\n",
       "      <td>103.945</td>\n",
       "      <td>3727.6</td>\n",
       "      <td>No Data</td>\n",
       "      <td>No Data</td>\n",
       "      <td>No Data</td>\n",
       "      <td>0</td>\n",
       "    </tr>\n",
       "    <tr>\n",
       "      <th>2015-04-01 00:40:00</th>\n",
       "      <td>0.0862632542848587</td>\n",
       "      <td>Normal</td>\n",
       "      <td>Active</td>\n",
       "      <td>Active</td>\n",
       "      <td>0</td>\n",
       "      <td>off</td>\n",
       "      <td>0.0120094</td>\n",
       "      <td>12.0093</td>\n",
       "      <td>208.568</td>\n",
       "      <td>No Data</td>\n",
       "      <td>...</td>\n",
       "      <td>Normal</td>\n",
       "      <td>18.4916</td>\n",
       "      <td>0.151732</td>\n",
       "      <td>Normal</td>\n",
       "      <td>103.945</td>\n",
       "      <td>3727.94</td>\n",
       "      <td>No Data</td>\n",
       "      <td>No Data</td>\n",
       "      <td>No Data</td>\n",
       "      <td>0</td>\n",
       "    </tr>\n",
       "  </tbody>\n",
       "</table>\n",
       "<p>5 rows × 49 columns</p>\n",
       "</div>"
      ],
      "text/plain": [
       "                            AI552051.754 AI552051.754_ALM BACT.552051  \\\n",
       "Timestamp                                                               \n",
       "2015-04-01 00:00:00   0.0851304903626442           Normal      Active   \n",
       "2015-04-01 00:10:00  0.08541367948055267           Normal      Active   \n",
       "2015-04-01 00:20:00  0.08569687604904175           Normal      Active   \n",
       "2015-04-01 00:30:00  0.08598006516695023           Normal      Active   \n",
       "2015-04-01 00:40:00   0.0862632542848587           Normal      Active   \n",
       "\n",
       "                    BCMPLT.552051 CYCLE.552051 FAL552051.754 FI552051_718  \\\n",
       "Timestamp                                                                   \n",
       "2015-04-01 00:00:00        Active            0           off    0.0120094   \n",
       "2015-04-01 00:10:00        Active            0           off    0.0120094   \n",
       "2015-04-01 00:20:00        Active            0           off    0.0120094   \n",
       "2015-04-01 00:30:00        Active            0           off    0.0120094   \n",
       "2015-04-01 00:40:00        Active            0           off    0.0120094   \n",
       "\n",
       "                    FIC552051_718 FQI552051.718 HV552051.331  ...  \\\n",
       "Timestamp                                                     ...   \n",
       "2015-04-01 00:00:00       12.0093       208.417      No Data  ...   \n",
       "2015-04-01 00:10:00       12.0093       208.455      No Data  ...   \n",
       "2015-04-01 00:20:00       12.0093       208.492      No Data  ...   \n",
       "2015-04-01 00:30:00       12.0093        208.53      No Data  ...   \n",
       "2015-04-01 00:40:00       12.0093       208.568      No Data  ...   \n",
       "\n",
       "                    SSOALM.552051 TIC552051.616 VI552051.748 VI552051.748_ALM  \\\n",
       "Timestamp                                                                       \n",
       "2015-04-01 00:00:00        Normal       18.4833     0.838046           Normal   \n",
       "2015-04-01 00:10:00        Normal       18.4854     0.353471           Normal   \n",
       "2015-04-01 00:20:00        Normal       18.4875     0.299794           Normal   \n",
       "2015-04-01 00:30:00        Normal       18.4896     0.129283           Normal   \n",
       "2015-04-01 00:40:00        Normal       18.4916     0.151732           Normal   \n",
       "\n",
       "                    WI552051.674 WI552051.675 ZS552051.737 ZS552051.740  \\\n",
       "Timestamp                                                                 \n",
       "2015-04-01 00:00:00      103.945      3726.58      No Data      No Data   \n",
       "2015-04-01 00:10:00      103.945      3726.92      No Data      No Data   \n",
       "2015-04-01 00:20:00      103.945      3727.26      No Data      No Data   \n",
       "2015-04-01 00:30:00      103.945       3727.6      No Data      No Data   \n",
       "2015-04-01 00:40:00      103.945      3727.94      No Data      No Data   \n",
       "\n",
       "                    ZS552051_753 labels  \n",
       "Timestamp                                \n",
       "2015-04-01 00:00:00      No Data      0  \n",
       "2015-04-01 00:10:00      No Data      0  \n",
       "2015-04-01 00:20:00      No Data      0  \n",
       "2015-04-01 00:30:00      No Data      0  \n",
       "2015-04-01 00:40:00      No Data      0  \n",
       "\n",
       "[5 rows x 49 columns]"
      ]
     },
     "execution_count": 11,
     "metadata": {},
     "output_type": "execute_result"
    }
   ],
   "source": [
    "sandbox[\"Timestamp\"]  = pd.to_datetime(sandbox[\"Timestamp\"],format=\"%Y-%m-%d %H:%M:%S\")\n",
    "sandbox.set_index([\"Timestamp\"],inplace=True)\n",
    "sandbox.sort_index()\n",
    "sandbox.head(5)"
   ]
  },
  {
   "cell_type": "code",
   "execution_count": 34,
   "metadata": {},
   "outputs": [
    {
     "name": "stdout",
     "output_type": "stream",
     "text": [
      "<class 'pandas._libs.tslibs.timestamps.Timestamp'> 2017-04-27 00:00:00\n"
     ]
    },
    {
     "data": {
      "image/png": "[encoded data removed]",
      "text/plain": [
       "<Figure size 432x288 with 1 Axes>"
      ]
     },
     "metadata": {
      "needs_background": "light"
     },
     "output_type": "display_data"
    },
    {
     "data": {
      "text/plain": [
       "Counter({1: 108996, 0: 12})"
      ]
     },
     "execution_count": 34,
     "metadata": {},
     "output_type": "execute_result"
    }
   ],
   "source": [
    "def plot_missing_times(table,start,end):\n",
    "    st = start\n",
    "    ll = []\n",
    "    while st < end:\n",
    "        if st in table:\n",
    "            ll.append(1)\n",
    "        else:\n",
    "            ll.append(0)\n",
    "        st+=timedelta(minutes=10)\n",
    "    plt.scatter(np.arange(len(ll)),ll,color=[\"red\" if k==0 else \"blue\" for k in ll])\n",
    "    plt.show()\n",
    "    return ll\n",
    "    \n",
    "st = sandbox.index[0]\n",
    "en = sandbox.index[-1]\n",
    "print(type(st),en)\n",
    "Counter(plot_missing_times(sandbox.index,st,en))"
   ]
  },
  {
   "cell_type": "code",
   "execution_count": 36,
   "metadata": {},
   "outputs": [
    {
     "data": {
      "image/png": "[encoded data removed]",
      "text/plain": [
       "<Figure size 1440x720 with 1 Axes>"
      ]
     },
     "metadata": {
      "needs_background": "light"
     },
     "output_type": "display_data"
    }
   ],
   "source": [
    "def plot_failures():\n",
    "    plt.figure(figsize=(20,10))\n",
    "    plt.scatter(sandbox.index,[1 for _ in range(len(sandbox))],color=\"yellow\")\n",
    "    fail_piece = sandbox[sandbox.labels > 0]\n",
    "    plt.scatter(fail_piece.index,[1 for _ in range(len(fail_piece))],color=\"red\")\n",
    "    plt.show()\n",
    "\n",
    "plot_failures()"
   ]
  },
  {
   "cell_type": "code",
   "execution_count": null,
   "metadata": {},
   "outputs": [],
   "source": [
    "#     for ind,row in failure.iterrows():\n",
    "#         st = row[\"Fstart\"]\n",
    "#         k = []\n",
    "#         while st < row[\"Fend\"]:\n",
    "#             k.append(st)\n",
    "#             st += timedelta(minutes=10)\n",
    "#         #print(\"Time \",row[\"Fend\"]-row[\"Fstart\"],\" gives \",len(k))\n",
    "#         plt.plot(k,[1 for _ in range(len(k))],marker=\"o\",color=\"red\")\n",
    "#         msum+=len(k)\n",
    "#    print(\"Total entries \",msum)\n",
    "    #plt.scatter(datetime.strptime(\"2016-07-01 00:00:00\",\"%Y-%m-%d %H:%M:%S\"),1,marker=\"*\",s=150,color = \"green\")\n",
    "    "
   ]
  },
  {
   "cell_type": "code",
   "execution_count": 17,
   "metadata": {},
   "outputs": [
    {
     "name": "stdout",
     "output_type": "stream",
     "text": [
      "(65809, 49)\n",
      "(43201, 49)\n"
     ]
    }
   ],
   "source": [
    "# Use the visual representation to make a feasible train-test split : 2016-04-30\n",
    "\n",
    "marked_index = datetime.strptime(\"2016-07-01 00:00:00\",\"%Y-%m-%d %H:%M:%S\")\n",
    "train = sandbox.loc[:marked_index]\n",
    "test = sandbox.loc[marked_index:]\n",
    "\n",
    "print(train.shape)\n",
    "print(test.shape)\n",
    "\n"
   ]
  },
  {
   "cell_type": "code",
   "execution_count": 23,
   "metadata": {},
   "outputs": [
    {
     "name": "stdout",
     "output_type": "stream",
     "text": [
      "['SI552051.801', 'PHASE.552051', 'WI552051.675', 'CYCLE.552051', 'TIC552051.616', 'SIA552051.801', 'SIC552051.801_SP', 'PIN.552051', 'PI552051.645', 'SIC552051.801_CO', 'SIC552051.801', 'PHTIME.552051', 'PI552051.641', 'WI552051.674', 'FIC552051_718', 'AI552051.754', 'MODSTS.552051', 'VI552051.748', 'PI552051.646', 'FI552051_718', 'PI552051.642', 'FQI552051.718', 'PI552051.651']\n"
     ]
    }
   ],
   "source": [
    "cat_cols = [\"AI552051.754_ALM\",\"BACT.552051\",\"BCMPLT.552051\",\"FAL552051.754\",\"HV552051.331\",\"HV552051.332\",\"LAH552051.670\",\"LAH552051.678\",\"LAH552051.680\",\"M552051.801\",\"M552051.802\",\"M552051.823\",\"M552051.826\",\"M552051.871\",\"MAINT.552051\",\"MODMAN.552051\",\"PARTREC.552051\",\"QCA552051_001\",\"RUN.552051\",\"SIC552051.801_ALM\",\"SSOALM.552051\",\"VI552051.748_ALM\",\"ZS552051.737\",\"ZS552051.740\",\"ZS552051_753\"]\n",
    "non_cat_cols = list(set(list(sandbox.columns))-set(cat_cols))\n",
    "non_cat_cols.remove(\"labels\")\n",
    "print(non_cat_cols)"
   ]
  },
  {
   "cell_type": "code",
   "execution_count": null,
   "metadata": {},
   "outputs": [],
   "source": [
    "sandbox.head(3)"
   ]
  },
  {
   "cell_type": "code",
   "execution_count": 31,
   "metadata": {
    "scrolled": false
   },
   "outputs": [],
   "source": [
    "def plot_features(data,col):\n",
    "    plt.figure(figsize=(50,10))\n",
    "    mst = data.index[0]\n",
    "    plt.plot(data.index,data[col],color=\"blue\")\n",
    "\n",
    "    fail_piece = data[data.labels > 0][col]\n",
    "    print(col)\n",
    "    plt.scatter(fail_piece.index,fail_piece,marker=\"o\",s=100,color=\"red\")\n",
    "    #plt.scatter(,1,marker=\"*\",s=150,color = \"green\")\n",
    "    #plt.vlines(datetime.strptime(\"2016-07-01 00:00:00\",\"%Y-%m-%d %H:%M:%S\"),ymin=np.min(sandbox[col]),ymax=np.max(sandbox[col]),linestyle=\"dashed\",color=\"green\")\n",
    "    plt.savefig(\"Test plot \"+str(col)+\".png\")\n",
    "    plt.show()\n",
    "\n",
    "for col in non_cat_cols:\n",
    "    sandbox[col] = pd.to_numeric(sandbox[col], errors='coerce',)\n"
   ]
  },
  {
   "cell_type": "code",
   "execution_count": 32,
   "metadata": {},
   "outputs": [
    {
     "data": {
      "text/plain": [
       "SI552051.801        float64\n",
       "PHASE.552051        float64\n",
       "WI552051.675        float64\n",
       "CYCLE.552051        float64\n",
       "TIC552051.616       float64\n",
       "SIA552051.801       float64\n",
       "SIC552051.801_SP    float64\n",
       "PIN.552051          float64\n",
       "PI552051.645        float64\n",
       "SIC552051.801_CO    float64\n",
       "SIC552051.801       float64\n",
       "PHTIME.552051       float64\n",
       "PI552051.641        float64\n",
       "WI552051.674        float64\n",
       "FIC552051_718       float64\n",
       "AI552051.754        float64\n",
       "MODSTS.552051       float64\n",
       "VI552051.748        float64\n",
       "PI552051.646        float64\n",
       "FI552051_718        float64\n",
       "PI552051.642        float64\n",
       "FQI552051.718       float64\n",
       "PI552051.651        float64\n",
       "dtype: object"
      ]
     },
     "execution_count": 32,
     "metadata": {},
     "output_type": "execute_result"
    }
   ],
   "source": [
    "sandbox[non_cat_cols].dtypes"
   ]
  },
  {
   "cell_type": "code",
   "execution_count": 33,
   "metadata": {},
   "outputs": [
    {
     "name": "stdout",
     "output_type": "stream",
     "text": [
      "DatetimeIndex(['2015-08-06 09:40:00', '2015-11-25 15:20:00',\n",
      "               '2015-11-25 15:30:00'],\n",
      "              dtype='datetime64[ns]', name='Timestamp', freq=None)\n"
     ]
    },
    {
     "ename": "ValueError",
     "evalue": "could not convert string to float: 'Bad Input'",
     "output_type": "error",
     "traceback": [
      "\u001b[0;31m---------------------------------------------------------------------------\u001b[0m",
      "\u001b[0;31mValueError\u001b[0m                                Traceback (most recent call last)",
      "\u001b[0;32m<ipython-input-33-9be143b223f9>\u001b[0m in \u001b[0;36m<module>\u001b[0;34m\u001b[0m\n\u001b[1;32m      3\u001b[0m     \u001b[0;31m#print(k)\u001b[0m\u001b[0;34m\u001b[0m\u001b[0;34m\u001b[0m\u001b[0;34m\u001b[0m\u001b[0m\n\u001b[1;32m      4\u001b[0m     \u001b[0mprint\u001b[0m\u001b[0;34m(\u001b[0m\u001b[0mtrain\u001b[0m\u001b[0;34m[\u001b[0m\u001b[0mtrain\u001b[0m\u001b[0;34m[\u001b[0m\u001b[0mk\u001b[0m\u001b[0;34m]\u001b[0m \u001b[0;34m==\u001b[0m \u001b[0;34m\"Bad Input\"\u001b[0m\u001b[0;34m]\u001b[0m\u001b[0;34m.\u001b[0m\u001b[0mindex\u001b[0m\u001b[0;34m)\u001b[0m\u001b[0;34m\u001b[0m\u001b[0;34m\u001b[0m\u001b[0m\n\u001b[0;32m----> 5\u001b[0;31m     \u001b[0mplot_features\u001b[0m\u001b[0;34m(\u001b[0m\u001b[0mtrain\u001b[0m\u001b[0;34m,\u001b[0m\u001b[0mk\u001b[0m\u001b[0;34m)\u001b[0m\u001b[0;34m\u001b[0m\u001b[0;34m\u001b[0m\u001b[0m\n\u001b[0m",
      "\u001b[0;32m<ipython-input-31-bfeec8d0c611>\u001b[0m in \u001b[0;36mplot_features\u001b[0;34m(data, col)\u001b[0m\n\u001b[1;32m      2\u001b[0m     \u001b[0mplt\u001b[0m\u001b[0;34m.\u001b[0m\u001b[0mfigure\u001b[0m\u001b[0;34m(\u001b[0m\u001b[0mfigsize\u001b[0m\u001b[0;34m=\u001b[0m\u001b[0;34m(\u001b[0m\u001b[0;36m50\u001b[0m\u001b[0;34m,\u001b[0m\u001b[0;36m10\u001b[0m\u001b[0;34m)\u001b[0m\u001b[0;34m)\u001b[0m\u001b[0;34m\u001b[0m\u001b[0;34m\u001b[0m\u001b[0m\n\u001b[1;32m      3\u001b[0m     \u001b[0mmst\u001b[0m \u001b[0;34m=\u001b[0m \u001b[0mdata\u001b[0m\u001b[0;34m.\u001b[0m\u001b[0mindex\u001b[0m\u001b[0;34m[\u001b[0m\u001b[0;36m0\u001b[0m\u001b[0;34m]\u001b[0m\u001b[0;34m\u001b[0m\u001b[0;34m\u001b[0m\u001b[0m\n\u001b[0;32m----> 4\u001b[0;31m     \u001b[0mplt\u001b[0m\u001b[0;34m.\u001b[0m\u001b[0mplot\u001b[0m\u001b[0;34m(\u001b[0m\u001b[0mdata\u001b[0m\u001b[0;34m.\u001b[0m\u001b[0mindex\u001b[0m\u001b[0;34m,\u001b[0m\u001b[0mdata\u001b[0m\u001b[0;34m[\u001b[0m\u001b[0mcol\u001b[0m\u001b[0;34m]\u001b[0m\u001b[0;34m,\u001b[0m\u001b[0mcolor\u001b[0m\u001b[0;34m=\u001b[0m\u001b[0;34m\"blue\"\u001b[0m\u001b[0;34m)\u001b[0m\u001b[0;34m\u001b[0m\u001b[0;34m\u001b[0m\u001b[0m\n\u001b[0m\u001b[1;32m      5\u001b[0m \u001b[0;34m\u001b[0m\u001b[0m\n\u001b[1;32m      6\u001b[0m     \u001b[0mfail_piece\u001b[0m \u001b[0;34m=\u001b[0m \u001b[0mdata\u001b[0m\u001b[0;34m[\u001b[0m\u001b[0mdata\u001b[0m\u001b[0;34m.\u001b[0m\u001b[0mlabels\u001b[0m \u001b[0;34m>\u001b[0m \u001b[0;36m0\u001b[0m\u001b[0;34m]\u001b[0m\u001b[0;34m[\u001b[0m\u001b[0mcol\u001b[0m\u001b[0;34m]\u001b[0m\u001b[0;34m\u001b[0m\u001b[0;34m\u001b[0m\u001b[0m\n",
      "\u001b[0;32m~/anaconda3/envs/py36/lib/python3.6/site-packages/matplotlib/pyplot.py\u001b[0m in \u001b[0;36mplot\u001b[0;34m(scalex, scaley, data, *args, **kwargs)\u001b[0m\n\u001b[1;32m   2809\u001b[0m     return gca().plot(\n\u001b[1;32m   2810\u001b[0m         *args, scalex=scalex, scaley=scaley, **({\"data\": data} if data\n\u001b[0;32m-> 2811\u001b[0;31m         is not None else {}), **kwargs)\n\u001b[0m\u001b[1;32m   2812\u001b[0m \u001b[0;34m\u001b[0m\u001b[0m\n\u001b[1;32m   2813\u001b[0m \u001b[0;34m\u001b[0m\u001b[0m\n",
      "\u001b[0;32m~/anaconda3/envs/py36/lib/python3.6/site-packages/matplotlib/__init__.py\u001b[0m in \u001b[0;36minner\u001b[0;34m(ax, data, *args, **kwargs)\u001b[0m\n\u001b[1;32m   1808\u001b[0m                         \u001b[0;34m\"the Matplotlib list!)\"\u001b[0m \u001b[0;34m%\u001b[0m \u001b[0;34m(\u001b[0m\u001b[0mlabel_namer\u001b[0m\u001b[0;34m,\u001b[0m \u001b[0mfunc\u001b[0m\u001b[0;34m.\u001b[0m\u001b[0m__name__\u001b[0m\u001b[0;34m)\u001b[0m\u001b[0;34m,\u001b[0m\u001b[0;34m\u001b[0m\u001b[0;34m\u001b[0m\u001b[0m\n\u001b[1;32m   1809\u001b[0m                         RuntimeWarning, stacklevel=2)\n\u001b[0;32m-> 1810\u001b[0;31m             \u001b[0;32mreturn\u001b[0m \u001b[0mfunc\u001b[0m\u001b[0;34m(\u001b[0m\u001b[0max\u001b[0m\u001b[0;34m,\u001b[0m \u001b[0;34m*\u001b[0m\u001b[0margs\u001b[0m\u001b[0;34m,\u001b[0m \u001b[0;34m**\u001b[0m\u001b[0mkwargs\u001b[0m\u001b[0;34m)\u001b[0m\u001b[0;34m\u001b[0m\u001b[0;34m\u001b[0m\u001b[0m\n\u001b[0m\u001b[1;32m   1811\u001b[0m \u001b[0;34m\u001b[0m\u001b[0m\n\u001b[1;32m   1812\u001b[0m         inner.__doc__ = _add_data_doc(inner.__doc__,\n",
      "\u001b[0;32m~/anaconda3/envs/py36/lib/python3.6/site-packages/matplotlib/axes/_axes.py\u001b[0m in \u001b[0;36mplot\u001b[0;34m(self, scalex, scaley, *args, **kwargs)\u001b[0m\n\u001b[1;32m   1610\u001b[0m \u001b[0;34m\u001b[0m\u001b[0m\n\u001b[1;32m   1611\u001b[0m         \u001b[0;32mfor\u001b[0m \u001b[0mline\u001b[0m \u001b[0;32min\u001b[0m \u001b[0mself\u001b[0m\u001b[0;34m.\u001b[0m\u001b[0m_get_lines\u001b[0m\u001b[0;34m(\u001b[0m\u001b[0;34m*\u001b[0m\u001b[0margs\u001b[0m\u001b[0;34m,\u001b[0m \u001b[0;34m**\u001b[0m\u001b[0mkwargs\u001b[0m\u001b[0;34m)\u001b[0m\u001b[0;34m:\u001b[0m\u001b[0;34m\u001b[0m\u001b[0;34m\u001b[0m\u001b[0m\n\u001b[0;32m-> 1612\u001b[0;31m             \u001b[0mself\u001b[0m\u001b[0;34m.\u001b[0m\u001b[0madd_line\u001b[0m\u001b[0;34m(\u001b[0m\u001b[0mline\u001b[0m\u001b[0;34m)\u001b[0m\u001b[0;34m\u001b[0m\u001b[0;34m\u001b[0m\u001b[0m\n\u001b[0m\u001b[1;32m   1613\u001b[0m             \u001b[0mlines\u001b[0m\u001b[0;34m.\u001b[0m\u001b[0mappend\u001b[0m\u001b[0;34m(\u001b[0m\u001b[0mline\u001b[0m\u001b[0;34m)\u001b[0m\u001b[0;34m\u001b[0m\u001b[0;34m\u001b[0m\u001b[0m\n\u001b[1;32m   1614\u001b[0m \u001b[0;34m\u001b[0m\u001b[0m\n",
      "\u001b[0;32m~/anaconda3/envs/py36/lib/python3.6/site-packages/matplotlib/axes/_base.py\u001b[0m in \u001b[0;36madd_line\u001b[0;34m(self, line)\u001b[0m\n\u001b[1;32m   1893\u001b[0m             \u001b[0mline\u001b[0m\u001b[0;34m.\u001b[0m\u001b[0mset_clip_path\u001b[0m\u001b[0;34m(\u001b[0m\u001b[0mself\u001b[0m\u001b[0;34m.\u001b[0m\u001b[0mpatch\u001b[0m\u001b[0;34m)\u001b[0m\u001b[0;34m\u001b[0m\u001b[0;34m\u001b[0m\u001b[0m\n\u001b[1;32m   1894\u001b[0m \u001b[0;34m\u001b[0m\u001b[0m\n\u001b[0;32m-> 1895\u001b[0;31m         \u001b[0mself\u001b[0m\u001b[0;34m.\u001b[0m\u001b[0m_update_line_limits\u001b[0m\u001b[0;34m(\u001b[0m\u001b[0mline\u001b[0m\u001b[0;34m)\u001b[0m\u001b[0;34m\u001b[0m\u001b[0;34m\u001b[0m\u001b[0m\n\u001b[0m\u001b[1;32m   1896\u001b[0m         \u001b[0;32mif\u001b[0m \u001b[0;32mnot\u001b[0m \u001b[0mline\u001b[0m\u001b[0;34m.\u001b[0m\u001b[0mget_label\u001b[0m\u001b[0;34m(\u001b[0m\u001b[0;34m)\u001b[0m\u001b[0;34m:\u001b[0m\u001b[0;34m\u001b[0m\u001b[0;34m\u001b[0m\u001b[0m\n\u001b[1;32m   1897\u001b[0m             \u001b[0mline\u001b[0m\u001b[0;34m.\u001b[0m\u001b[0mset_label\u001b[0m\u001b[0;34m(\u001b[0m\u001b[0;34m'_line%d'\u001b[0m \u001b[0;34m%\u001b[0m \u001b[0mlen\u001b[0m\u001b[0;34m(\u001b[0m\u001b[0mself\u001b[0m\u001b[0;34m.\u001b[0m\u001b[0mlines\u001b[0m\u001b[0;34m)\u001b[0m\u001b[0;34m)\u001b[0m\u001b[0;34m\u001b[0m\u001b[0;34m\u001b[0m\u001b[0m\n",
      "\u001b[0;32m~/anaconda3/envs/py36/lib/python3.6/site-packages/matplotlib/axes/_base.py\u001b[0m in \u001b[0;36m_update_line_limits\u001b[0;34m(self, line)\u001b[0m\n\u001b[1;32m   1915\u001b[0m         \u001b[0mFigures\u001b[0m \u001b[0mout\u001b[0m \u001b[0mthe\u001b[0m \u001b[0mdata\u001b[0m \u001b[0mlimit\u001b[0m \u001b[0mof\u001b[0m \u001b[0mthe\u001b[0m \u001b[0mgiven\u001b[0m \u001b[0mline\u001b[0m\u001b[0;34m,\u001b[0m \u001b[0mupdating\u001b[0m \u001b[0mself\u001b[0m\u001b[0;34m.\u001b[0m\u001b[0mdataLim\u001b[0m\u001b[0;34m.\u001b[0m\u001b[0;34m\u001b[0m\u001b[0;34m\u001b[0m\u001b[0m\n\u001b[1;32m   1916\u001b[0m         \"\"\"\n\u001b[0;32m-> 1917\u001b[0;31m         \u001b[0mpath\u001b[0m \u001b[0;34m=\u001b[0m \u001b[0mline\u001b[0m\u001b[0;34m.\u001b[0m\u001b[0mget_path\u001b[0m\u001b[0;34m(\u001b[0m\u001b[0;34m)\u001b[0m\u001b[0;34m\u001b[0m\u001b[0;34m\u001b[0m\u001b[0m\n\u001b[0m\u001b[1;32m   1918\u001b[0m         \u001b[0;32mif\u001b[0m \u001b[0mpath\u001b[0m\u001b[0;34m.\u001b[0m\u001b[0mvertices\u001b[0m\u001b[0;34m.\u001b[0m\u001b[0msize\u001b[0m \u001b[0;34m==\u001b[0m \u001b[0;36m0\u001b[0m\u001b[0;34m:\u001b[0m\u001b[0;34m\u001b[0m\u001b[0;34m\u001b[0m\u001b[0m\n\u001b[1;32m   1919\u001b[0m             \u001b[0;32mreturn\u001b[0m\u001b[0;34m\u001b[0m\u001b[0;34m\u001b[0m\u001b[0m\n",
      "\u001b[0;32m~/anaconda3/envs/py36/lib/python3.6/site-packages/matplotlib/lines.py\u001b[0m in \u001b[0;36mget_path\u001b[0;34m(self)\u001b[0m\n\u001b[1;32m    943\u001b[0m         \"\"\"\n\u001b[1;32m    944\u001b[0m         \u001b[0;32mif\u001b[0m \u001b[0mself\u001b[0m\u001b[0;34m.\u001b[0m\u001b[0m_invalidy\u001b[0m \u001b[0;32mor\u001b[0m \u001b[0mself\u001b[0m\u001b[0;34m.\u001b[0m\u001b[0m_invalidx\u001b[0m\u001b[0;34m:\u001b[0m\u001b[0;34m\u001b[0m\u001b[0;34m\u001b[0m\u001b[0m\n\u001b[0;32m--> 945\u001b[0;31m             \u001b[0mself\u001b[0m\u001b[0;34m.\u001b[0m\u001b[0mrecache\u001b[0m\u001b[0;34m(\u001b[0m\u001b[0;34m)\u001b[0m\u001b[0;34m\u001b[0m\u001b[0;34m\u001b[0m\u001b[0m\n\u001b[0m\u001b[1;32m    946\u001b[0m         \u001b[0;32mreturn\u001b[0m \u001b[0mself\u001b[0m\u001b[0;34m.\u001b[0m\u001b[0m_path\u001b[0m\u001b[0;34m\u001b[0m\u001b[0;34m\u001b[0m\u001b[0m\n\u001b[1;32m    947\u001b[0m \u001b[0;34m\u001b[0m\u001b[0m\n",
      "\u001b[0;32m~/anaconda3/envs/py36/lib/python3.6/site-packages/matplotlib/lines.py\u001b[0m in \u001b[0;36mrecache\u001b[0;34m(self, always)\u001b[0m\n\u001b[1;32m    643\u001b[0m         \u001b[0;32mif\u001b[0m \u001b[0malways\u001b[0m \u001b[0;32mor\u001b[0m \u001b[0mself\u001b[0m\u001b[0;34m.\u001b[0m\u001b[0m_invalidy\u001b[0m\u001b[0;34m:\u001b[0m\u001b[0;34m\u001b[0m\u001b[0;34m\u001b[0m\u001b[0m\n\u001b[1;32m    644\u001b[0m             \u001b[0myconv\u001b[0m \u001b[0;34m=\u001b[0m \u001b[0mself\u001b[0m\u001b[0;34m.\u001b[0m\u001b[0mconvert_yunits\u001b[0m\u001b[0;34m(\u001b[0m\u001b[0mself\u001b[0m\u001b[0;34m.\u001b[0m\u001b[0m_yorig\u001b[0m\u001b[0;34m)\u001b[0m\u001b[0;34m\u001b[0m\u001b[0;34m\u001b[0m\u001b[0m\n\u001b[0;32m--> 645\u001b[0;31m             \u001b[0my\u001b[0m \u001b[0;34m=\u001b[0m \u001b[0m_to_unmasked_float_array\u001b[0m\u001b[0;34m(\u001b[0m\u001b[0myconv\u001b[0m\u001b[0;34m)\u001b[0m\u001b[0;34m.\u001b[0m\u001b[0mravel\u001b[0m\u001b[0;34m(\u001b[0m\u001b[0;34m)\u001b[0m\u001b[0;34m\u001b[0m\u001b[0;34m\u001b[0m\u001b[0m\n\u001b[0m\u001b[1;32m    646\u001b[0m         \u001b[0;32melse\u001b[0m\u001b[0;34m:\u001b[0m\u001b[0;34m\u001b[0m\u001b[0;34m\u001b[0m\u001b[0m\n\u001b[1;32m    647\u001b[0m             \u001b[0my\u001b[0m \u001b[0;34m=\u001b[0m \u001b[0mself\u001b[0m\u001b[0;34m.\u001b[0m\u001b[0m_y\u001b[0m\u001b[0;34m\u001b[0m\u001b[0;34m\u001b[0m\u001b[0m\n",
      "\u001b[0;32m~/anaconda3/envs/py36/lib/python3.6/site-packages/matplotlib/cbook/__init__.py\u001b[0m in \u001b[0;36m_to_unmasked_float_array\u001b[0;34m(x)\u001b[0m\n\u001b[1;32m   1363\u001b[0m         \u001b[0;32mreturn\u001b[0m \u001b[0mnp\u001b[0m\u001b[0;34m.\u001b[0m\u001b[0mma\u001b[0m\u001b[0;34m.\u001b[0m\u001b[0masarray\u001b[0m\u001b[0;34m(\u001b[0m\u001b[0mx\u001b[0m\u001b[0;34m,\u001b[0m \u001b[0mfloat\u001b[0m\u001b[0;34m)\u001b[0m\u001b[0;34m.\u001b[0m\u001b[0mfilled\u001b[0m\u001b[0;34m(\u001b[0m\u001b[0mnp\u001b[0m\u001b[0;34m.\u001b[0m\u001b[0mnan\u001b[0m\u001b[0;34m)\u001b[0m\u001b[0;34m\u001b[0m\u001b[0;34m\u001b[0m\u001b[0m\n\u001b[1;32m   1364\u001b[0m     \u001b[0;32melse\u001b[0m\u001b[0;34m:\u001b[0m\u001b[0;34m\u001b[0m\u001b[0;34m\u001b[0m\u001b[0m\n\u001b[0;32m-> 1365\u001b[0;31m         \u001b[0;32mreturn\u001b[0m \u001b[0mnp\u001b[0m\u001b[0;34m.\u001b[0m\u001b[0masarray\u001b[0m\u001b[0;34m(\u001b[0m\u001b[0mx\u001b[0m\u001b[0;34m,\u001b[0m \u001b[0mfloat\u001b[0m\u001b[0;34m)\u001b[0m\u001b[0;34m\u001b[0m\u001b[0;34m\u001b[0m\u001b[0m\n\u001b[0m\u001b[1;32m   1366\u001b[0m \u001b[0;34m\u001b[0m\u001b[0m\n\u001b[1;32m   1367\u001b[0m \u001b[0;34m\u001b[0m\u001b[0m\n",
      "\u001b[0;32m~/anaconda3/envs/py36/lib/python3.6/site-packages/numpy/core/numeric.py\u001b[0m in \u001b[0;36masarray\u001b[0;34m(a, dtype, order)\u001b[0m\n\u001b[1;32m    499\u001b[0m \u001b[0;34m\u001b[0m\u001b[0m\n\u001b[1;32m    500\u001b[0m     \"\"\"\n\u001b[0;32m--> 501\u001b[0;31m     \u001b[0;32mreturn\u001b[0m \u001b[0marray\u001b[0m\u001b[0;34m(\u001b[0m\u001b[0ma\u001b[0m\u001b[0;34m,\u001b[0m \u001b[0mdtype\u001b[0m\u001b[0;34m,\u001b[0m \u001b[0mcopy\u001b[0m\u001b[0;34m=\u001b[0m\u001b[0;32mFalse\u001b[0m\u001b[0;34m,\u001b[0m \u001b[0morder\u001b[0m\u001b[0;34m=\u001b[0m\u001b[0morder\u001b[0m\u001b[0;34m)\u001b[0m\u001b[0;34m\u001b[0m\u001b[0;34m\u001b[0m\u001b[0m\n\u001b[0m\u001b[1;32m    502\u001b[0m \u001b[0;34m\u001b[0m\u001b[0m\n\u001b[1;32m    503\u001b[0m \u001b[0;34m\u001b[0m\u001b[0m\n",
      "\u001b[0;31mValueError\u001b[0m: could not convert string to float: 'Bad Input'"
     ]
    },
    {
     "data": {
      "image/png": "[encoded data removed]",
      "text/plain": [
       "<Figure size 3600x720 with 1 Axes>"
      ]
     },
     "metadata": {
      "needs_background": "light"
     },
     "output_type": "display_data"
    }
   ],
   "source": [
    "\n",
    "for k in non_cat_cols:\n",
    "    #print(k)\n",
    "    print(train[train[k] == \"Bad Input\"].index)\n",
    "    plot_features(train,k)"
   ]
  },
  {
   "cell_type": "code",
   "execution_count": null,
   "metadata": {},
   "outputs": [],
   "source": [
    "def mod_bin_search(key):\n",
    "    low = 0\n",
    "    high = len(sandbox)-1\n",
    "    while low >= high:\n",
    "        ind = (low+high)//2\n",
    "        if key == sandbox.index[low]:\n",
    "            return low\n",
    "        elif key == sandbox.index[high]:\n",
    "            return high\n",
    "        elif key == sandbox.index[ind]:\n",
    "            return ind\n",
    "        else:\n",
    "            if sandbox.index[ind] > key:\n",
    "                if high == ind:\n",
    "                    return min(low,high)\n",
    "                high = ind\n",
    "            else:\n",
    "                if low == ind:\n",
    "                    return min(low,high)\n",
    "                low = ind\n",
    "    return min(low,high)"
   ]
  },
  {
   "cell_type": "code",
   "execution_count": null,
   "metadata": {},
   "outputs": [],
   "source": [
    "feat_cols = list(sandbox.columns)\n",
    "feat_cols.remove(\"labels\")\n",
    "\n",
    "marked_index = datetime.strptime(\"2016-07-01 00:00:00\",\"%Y-%m-%d %H:%M:%S\")\n",
    "train_data = sandbox.loc[:marked_index][feat_cols]\n",
    "test_data = sandbox.loc[marked_index:][feat_cols]\n",
    "train_labels = sandbox.loc[:marked_index][\"labels\"]\n",
    "test_labels = sandbox.loc[marked_index:][\"labels\"]\n",
    "print(train_data.shape,train_labels.shape)\n",
    "print(test_data.shape,test_labels.shape)\n",
    "\n"
   ]
  },
  {
   "cell_type": "code",
   "execution_count": null,
   "metadata": {},
   "outputs": [],
   "source": [
    "import numpy\n",
    "from keras.datasets import imdb\n",
    "from keras.models import Sequential\n",
    "from keras.layers import Dense\n",
    "from keras.layers import LSTM\n",
    "from keras.layers.embeddings import Embedding\n",
    "from keras.preprocessing import sequence\n",
    "# fix random seed for reproducibility\n",
    "numpy.random.seed(7)"
   ]
  },
  {
   "cell_type": "code",
   "execution_count": null,
   "metadata": {},
   "outputs": [],
   "source": [
    "# create the model\n",
    "feature_size = 48\n",
    "embedding_vecor_length = 32\n",
    "new_model = Sequential()\n",
    "new_model.add(Embedding(feature_size, embedding_vecor_length, input_length=train_data.shape[1]))\n",
    "new_model.add(LSTM(32))\n",
    "new_model.add(Dense(1, activation='sigmoid'))\n",
    "new_model.compile(loss='binary_crossentropy', optimizer='adam', metrics=['accuracy'])\n",
    "print(new_model.summary())\n",
    "new_model.fit(train_data.values, train_labels.values, validation_data=(test_data.values, test_labels.values), epochs=3, batch_size=64)"
   ]
  },
  {
   "cell_type": "code",
   "execution_count": null,
   "metadata": {},
   "outputs": [],
   "source": []
  }
 ],
 "metadata": {
  "kernelspec": {
   "display_name": "Notebook py36",
   "language": "python",
   "name": "py36"
  },
  "language_info": {
   "codemirror_mode": {
    "name": "ipython",
    "version": 3
   },
   "file_extension": ".py",
   "mimetype": "text/x-python",
   "name": "python",
   "nbconvert_exporter": "python",
   "pygments_lexer": "ipython3",
   "version": "3.6.8"
  }
 },
 "nbformat": 4,
 "nbformat_minor": 2
}
