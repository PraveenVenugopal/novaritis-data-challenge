{
 "cells": [
  {
   "cell_type": "code",
   "execution_count": 2,
   "metadata": {},
   "outputs": [],
   "source": [
    "%matplotlib inline  \n",
    "import pandas as pd\n",
    "import numpy as np\n",
    "import matplotlib.pyplot as plt\n",
    "from datetime import datetime, timedelta\n",
    "from collections import Counter"
   ]
  },
  {
   "cell_type": "code",
   "execution_count": 3,
   "metadata": {},
   "outputs": [
    {
     "name": "stderr",
     "output_type": "stream",
     "text": [
      "/home/venugopal/anaconda3/envs/py36/lib/python3.6/site-packages/IPython/core/interactiveshell.py:3020: DtypeWarning: Columns (6,8,9,10,23,25,26,27,28,29,30,31,32,35,37,39,40,42,43,45,46) have mixed types. Specify dtype option on import or set low_memory=False.\n",
      "  interactivity=interactivity, compiler=compiler, result=result)\n"
     ]
    },
    {
     "data": {
      "text/plain": [
       "(109009, 50)"
      ]
     },
     "execution_count": 3,
     "metadata": {},
     "output_type": "execute_result"
    }
   ],
   "source": [
    "sandbox = pd.read_csv(\"data/easy_load.csv\").drop(\"Unnamed: 0\",axis=1)\n",
    "sandbox.shape"
   ]
  },
  {
   "cell_type": "code",
   "execution_count": 4,
   "metadata": {},
   "outputs": [
    {
     "data": {
      "text/html": [
       "<div>\n",
       "<style scoped>\n",
       "    .dataframe tbody tr th:only-of-type {\n",
       "        vertical-align: middle;\n",
       "    }\n",
       "\n",
       "    .dataframe tbody tr th {\n",
       "        vertical-align: top;\n",
       "    }\n",
       "\n",
       "    .dataframe thead th {\n",
       "        text-align: right;\n",
       "    }\n",
       "</style>\n",
       "<table border=\"1\" class=\"dataframe\">\n",
       "  <thead>\n",
       "    <tr style=\"text-align: right;\">\n",
       "      <th></th>\n",
       "      <th>AI552051.754</th>\n",
       "      <th>AI552051.754_ALM</th>\n",
       "      <th>BACT.552051</th>\n",
       "      <th>BCMPLT.552051</th>\n",
       "      <th>CYCLE.552051</th>\n",
       "      <th>FAL552051.754</th>\n",
       "      <th>FI552051_718</th>\n",
       "      <th>FIC552051_718</th>\n",
       "      <th>FQI552051.718</th>\n",
       "      <th>HV552051.331</th>\n",
       "      <th>...</th>\n",
       "      <th>SSOALM.552051</th>\n",
       "      <th>TIC552051.616</th>\n",
       "      <th>VI552051.748</th>\n",
       "      <th>VI552051.748_ALM</th>\n",
       "      <th>WI552051.674</th>\n",
       "      <th>WI552051.675</th>\n",
       "      <th>ZS552051.737</th>\n",
       "      <th>ZS552051.740</th>\n",
       "      <th>ZS552051_753</th>\n",
       "      <th>labels</th>\n",
       "    </tr>\n",
       "    <tr>\n",
       "      <th>Timestamp</th>\n",
       "      <th></th>\n",
       "      <th></th>\n",
       "      <th></th>\n",
       "      <th></th>\n",
       "      <th></th>\n",
       "      <th></th>\n",
       "      <th></th>\n",
       "      <th></th>\n",
       "      <th></th>\n",
       "      <th></th>\n",
       "      <th></th>\n",
       "      <th></th>\n",
       "      <th></th>\n",
       "      <th></th>\n",
       "      <th></th>\n",
       "      <th></th>\n",
       "      <th></th>\n",
       "      <th></th>\n",
       "      <th></th>\n",
       "      <th></th>\n",
       "      <th></th>\n",
       "    </tr>\n",
       "  </thead>\n",
       "  <tbody>\n",
       "    <tr>\n",
       "      <th>2015-04-01 00:00:00</th>\n",
       "      <td>0.0851304903626442</td>\n",
       "      <td>Normal</td>\n",
       "      <td>Active</td>\n",
       "      <td>Active</td>\n",
       "      <td>0</td>\n",
       "      <td>off</td>\n",
       "      <td>0.0120094</td>\n",
       "      <td>12.0093</td>\n",
       "      <td>208.417</td>\n",
       "      <td>No Data</td>\n",
       "      <td>...</td>\n",
       "      <td>Normal</td>\n",
       "      <td>18.4833</td>\n",
       "      <td>0.838046</td>\n",
       "      <td>Normal</td>\n",
       "      <td>103.945</td>\n",
       "      <td>3726.58</td>\n",
       "      <td>No Data</td>\n",
       "      <td>No Data</td>\n",
       "      <td>No Data</td>\n",
       "      <td>0</td>\n",
       "    </tr>\n",
       "    <tr>\n",
       "      <th>2015-04-01 00:10:00</th>\n",
       "      <td>0.08541367948055267</td>\n",
       "      <td>Normal</td>\n",
       "      <td>Active</td>\n",
       "      <td>Active</td>\n",
       "      <td>0</td>\n",
       "      <td>off</td>\n",
       "      <td>0.0120094</td>\n",
       "      <td>12.0093</td>\n",
       "      <td>208.455</td>\n",
       "      <td>No Data</td>\n",
       "      <td>...</td>\n",
       "      <td>Normal</td>\n",
       "      <td>18.4854</td>\n",
       "      <td>0.353471</td>\n",
       "      <td>Normal</td>\n",
       "      <td>103.945</td>\n",
       "      <td>3726.92</td>\n",
       "      <td>No Data</td>\n",
       "      <td>No Data</td>\n",
       "      <td>No Data</td>\n",
       "      <td>0</td>\n",
       "    </tr>\n",
       "    <tr>\n",
       "      <th>2015-04-01 00:20:00</th>\n",
       "      <td>0.08569687604904175</td>\n",
       "      <td>Normal</td>\n",
       "      <td>Active</td>\n",
       "      <td>Active</td>\n",
       "      <td>0</td>\n",
       "      <td>off</td>\n",
       "      <td>0.0120094</td>\n",
       "      <td>12.0093</td>\n",
       "      <td>208.492</td>\n",
       "      <td>No Data</td>\n",
       "      <td>...</td>\n",
       "      <td>Normal</td>\n",
       "      <td>18.4875</td>\n",
       "      <td>0.299794</td>\n",
       "      <td>Normal</td>\n",
       "      <td>103.945</td>\n",
       "      <td>3727.26</td>\n",
       "      <td>No Data</td>\n",
       "      <td>No Data</td>\n",
       "      <td>No Data</td>\n",
       "      <td>0</td>\n",
       "    </tr>\n",
       "    <tr>\n",
       "      <th>2015-04-01 00:30:00</th>\n",
       "      <td>0.08598006516695023</td>\n",
       "      <td>Normal</td>\n",
       "      <td>Active</td>\n",
       "      <td>Active</td>\n",
       "      <td>0</td>\n",
       "      <td>off</td>\n",
       "      <td>0.0120094</td>\n",
       "      <td>12.0093</td>\n",
       "      <td>208.53</td>\n",
       "      <td>No Data</td>\n",
       "      <td>...</td>\n",
       "      <td>Normal</td>\n",
       "      <td>18.4896</td>\n",
       "      <td>0.129283</td>\n",
       "      <td>Normal</td>\n",
       "      <td>103.945</td>\n",
       "      <td>3727.6</td>\n",
       "      <td>No Data</td>\n",
       "      <td>No Data</td>\n",
       "      <td>No Data</td>\n",
       "      <td>0</td>\n",
       "    </tr>\n",
       "    <tr>\n",
       "      <th>2015-04-01 00:40:00</th>\n",
       "      <td>0.0862632542848587</td>\n",
       "      <td>Normal</td>\n",
       "      <td>Active</td>\n",
       "      <td>Active</td>\n",
       "      <td>0</td>\n",
       "      <td>off</td>\n",
       "      <td>0.0120094</td>\n",
       "      <td>12.0093</td>\n",
       "      <td>208.568</td>\n",
       "      <td>No Data</td>\n",
       "      <td>...</td>\n",
       "      <td>Normal</td>\n",
       "      <td>18.4916</td>\n",
       "      <td>0.151732</td>\n",
       "      <td>Normal</td>\n",
       "      <td>103.945</td>\n",
       "      <td>3727.94</td>\n",
       "      <td>No Data</td>\n",
       "      <td>No Data</td>\n",
       "      <td>No Data</td>\n",
       "      <td>0</td>\n",
       "    </tr>\n",
       "  </tbody>\n",
       "</table>\n",
       "<p>5 rows × 49 columns</p>\n",
       "</div>"
      ],
      "text/plain": [
       "                            AI552051.754 AI552051.754_ALM BACT.552051  \\\n",
       "Timestamp                                                               \n",
       "2015-04-01 00:00:00   0.0851304903626442           Normal      Active   \n",
       "2015-04-01 00:10:00  0.08541367948055267           Normal      Active   \n",
       "2015-04-01 00:20:00  0.08569687604904175           Normal      Active   \n",
       "2015-04-01 00:30:00  0.08598006516695023           Normal      Active   \n",
       "2015-04-01 00:40:00   0.0862632542848587           Normal      Active   \n",
       "\n",
       "                    BCMPLT.552051 CYCLE.552051 FAL552051.754 FI552051_718  \\\n",
       "Timestamp                                                                   \n",
       "2015-04-01 00:00:00        Active            0           off    0.0120094   \n",
       "2015-04-01 00:10:00        Active            0           off    0.0120094   \n",
       "2015-04-01 00:20:00        Active            0           off    0.0120094   \n",
       "2015-04-01 00:30:00        Active            0           off    0.0120094   \n",
       "2015-04-01 00:40:00        Active            0           off    0.0120094   \n",
       "\n",
       "                    FIC552051_718 FQI552051.718 HV552051.331  ...  \\\n",
       "Timestamp                                                     ...   \n",
       "2015-04-01 00:00:00       12.0093       208.417      No Data  ...   \n",
       "2015-04-01 00:10:00       12.0093       208.455      No Data  ...   \n",
       "2015-04-01 00:20:00       12.0093       208.492      No Data  ...   \n",
       "2015-04-01 00:30:00       12.0093        208.53      No Data  ...   \n",
       "2015-04-01 00:40:00       12.0093       208.568      No Data  ...   \n",
       "\n",
       "                    SSOALM.552051 TIC552051.616 VI552051.748 VI552051.748_ALM  \\\n",
       "Timestamp                                                                       \n",
       "2015-04-01 00:00:00        Normal       18.4833     0.838046           Normal   \n",
       "2015-04-01 00:10:00        Normal       18.4854     0.353471           Normal   \n",
       "2015-04-01 00:20:00        Normal       18.4875     0.299794           Normal   \n",
       "2015-04-01 00:30:00        Normal       18.4896     0.129283           Normal   \n",
       "2015-04-01 00:40:00        Normal       18.4916     0.151732           Normal   \n",
       "\n",
       "                    WI552051.674 WI552051.675 ZS552051.737 ZS552051.740  \\\n",
       "Timestamp                                                                 \n",
       "2015-04-01 00:00:00      103.945      3726.58      No Data      No Data   \n",
       "2015-04-01 00:10:00      103.945      3726.92      No Data      No Data   \n",
       "2015-04-01 00:20:00      103.945      3727.26      No Data      No Data   \n",
       "2015-04-01 00:30:00      103.945       3727.6      No Data      No Data   \n",
       "2015-04-01 00:40:00      103.945      3727.94      No Data      No Data   \n",
       "\n",
       "                    ZS552051_753 labels  \n",
       "Timestamp                                \n",
       "2015-04-01 00:00:00      No Data      0  \n",
       "2015-04-01 00:10:00      No Data      0  \n",
       "2015-04-01 00:20:00      No Data      0  \n",
       "2015-04-01 00:30:00      No Data      0  \n",
       "2015-04-01 00:40:00      No Data      0  \n",
       "\n",
       "[5 rows x 49 columns]"
      ]
     },
     "execution_count": 4,
     "metadata": {},
     "output_type": "execute_result"
    }
   ],
   "source": [
    "sandbox[\"Timestamp\"]  = pd.to_datetime(sandbox[\"Timestamp\"],format=\"%Y-%m-%d %H:%M:%S\")\n",
    "sandbox.set_index([\"Timestamp\"],inplace=True)\n",
    "sandbox.sort_index()\n",
    "sandbox.head(5)"
   ]
  },
  {
   "cell_type": "code",
   "execution_count": 5,
   "metadata": {},
   "outputs": [
    {
     "name": "stdout",
     "output_type": "stream",
     "text": [
      "<class 'pandas._libs.tslibs.timestamps.Timestamp'> 2017-04-27 00:00:00\n"
     ]
    },
    {
     "data": {
      "image/png": "[encoded data removed]",
      "text/plain": [
       "<Figure size 432x288 with 1 Axes>"
      ]
     },
     "metadata": {
      "needs_background": "light"
     },
     "output_type": "display_data"
    },
    {
     "data": {
      "text/plain": [
       "Counter({1: 108996, 0: 12})"
      ]
     },
     "execution_count": 5,
     "metadata": {},
     "output_type": "execute_result"
    }
   ],
   "source": [
    "def plot_missing_times(table,start,end):\n",
    "    st = start\n",
    "    ll = []\n",
    "    while st < end:\n",
    "        if st in table:\n",
    "            ll.append(1)\n",
    "        else:\n",
    "            ll.append(0)\n",
    "        st+=timedelta(minutes=10)\n",
    "    plt.scatter(np.arange(len(ll)),ll,color=[\"red\" if k==0 else \"blue\" for k in ll])\n",
    "    plt.show()\n",
    "    return ll\n",
    "    \n",
    "st = sandbox.index[0]\n",
    "en = sandbox.index[-1]\n",
    "print(type(st),en)\n",
    "Counter(plot_missing_times(sandbox.index,st,en))"
   ]
  },
  {
   "cell_type": "code",
   "execution_count": 6,
   "metadata": {},
   "outputs": [
    {
     "name": "stderr",
     "output_type": "stream",
     "text": [
      "/home/venugopal/anaconda3/envs/py36/lib/python3.6/site-packages/pandas/plotting/_converter.py:129: FutureWarning: Using an implicitly registered datetime converter for a matplotlib plotting method. The converter was registered by pandas on import. Future versions of pandas will require you to explicitly register matplotlib converters.\n",
      "\n",
      "To register the converters:\n",
      "\t>>> from pandas.plotting import register_matplotlib_converters\n",
      "\t>>> register_matplotlib_converters()\n",
      "  warnings.warn(msg, FutureWarning)\n"
     ]
    },
    {
     "data": {
      "image/png": "[encoded data removed]",
      "text/plain": [
       "<Figure size 1440x720 with 1 Axes>"
      ]
     },
     "metadata": {
      "needs_background": "light"
     },
     "output_type": "display_data"
    }
   ],
   "source": [
    "def plot_failures():\n",
    "    plt.figure(figsize=(20,10))\n",
    "    plt.scatter(sandbox.index,[1 for _ in range(len(sandbox))],color=\"yellow\")\n",
    "    fail_piece = sandbox[sandbox.labels > 0]\n",
    "    plt.scatter(fail_piece.index,[1 for _ in range(len(fail_piece))],color=\"red\")\n",
    "    plt.title(\"Anomaly distributions over time\")\n",
    "    plt.xlabel(\"Timestamp\")\n",
    "    plt.ylabel(\"Just a marker\")\n",
    "    plt.savefig(\"Timeline plot for failures.png\")\n",
    "    plt.show()\n",
    "\n",
    "plot_failures()"
   ]
  },
  {
   "cell_type": "code",
   "execution_count": 7,
   "metadata": {},
   "outputs": [
    {
     "name": "stdout",
     "output_type": "stream",
     "text": [
      "(65809, 49)\n",
      "(43201, 49)\n"
     ]
    },
    {
     "data": {
      "image/png": "[encoded data removed]",
      "text/plain": [
       "<Figure size 1440x216 with 1 Axes>"
      ]
     },
     "metadata": {
      "needs_background": "light"
     },
     "output_type": "display_data"
    }
   ],
   "source": [
    "# Use the visual representation to make a feasible train-test split : 2016-04-30\n",
    "\n",
    "marked_index = datetime.strptime(\"2016-07-01 00:00:00\",\"%Y-%m-%d %H:%M:%S\")\n",
    "train = sandbox.loc[:marked_index]\n",
    "test = sandbox.loc[marked_index:]\n",
    "\n",
    "print(train.shape)\n",
    "print(test.shape)\n",
    "\n",
    "def plot_test_failures():\n",
    "    plt.figure(figsize=(20,3))\n",
    "    plt.scatter(test.index,[1 for _ in range(len(test))],color=\"yellow\")\n",
    "    fail_piece = test[test.labels > 0]\n",
    "    plt.scatter(fail_piece.index,[1 for _ in range(len(fail_piece))],color=\"red\")\n",
    "    plt.title(\"Anomaly distributions over time\")\n",
    "    plt.xlabel(\"Timestamp\")\n",
    "    plt.ylabel(\"Just a marker\")\n",
    "    plt.savefig(\"Timeline plot for Anomalies in Test data.png\")\n",
    "    plt.show()\n",
    "\n",
    "plot_test_failures()"
   ]
  },
  {
   "cell_type": "code",
   "execution_count": null,
   "metadata": {},
   "outputs": [],
   "source": []
  }
 ],
 "metadata": {
  "kernelspec": {
   "display_name": "Notebook py36",
   "language": "python",
   "name": "py36"
  },
  "language_info": {
   "codemirror_mode": {
    "name": "ipython",
    "version": 3
   },
   "file_extension": ".py",
   "mimetype": "text/x-python",
   "name": "python",
   "nbconvert_exporter": "python",
   "pygments_lexer": "ipython3",
   "version": "3.6.8"
  }
 },
 "nbformat": 4,
 "nbformat_minor": 2
}
